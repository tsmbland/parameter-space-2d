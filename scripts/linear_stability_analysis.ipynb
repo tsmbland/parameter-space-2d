{
 "cells": [
  {
   "cell_type": "code",
   "execution_count": 1,
   "metadata": {},
   "outputs": [],
   "source": [
    "# Colab\n",
    "%pip install pde-rk\n",
    "%pip install parameter-space-2d\n",
    "!git clone --depth 1 https://github.com/tsmbland/parameter-space-2d.git\n",
    "import sys\n",
    "sys.path.append('parameter-space-2d/scripts')\n",
    "import os\n",
    "import shutil\n",
    "import copy\n",
    "import numpy as np\n",
    "import matplotlib.pyplot as plt\n",
    "import pandas as pd\n",
    "from paramspace2d import ParamSpace2D\n",
    "from goehring_model import ParODE\n",
    "from scipy.integrate import odeint\n",
    "%matplotlib inline\n",
    "\n",
    "# # Local\n",
    "# import sys\n",
    "# sys.path.append('..')\n",
    "# import os\n",
    "# import shutil\n",
    "# import copy\n",
    "# import numpy as np\n",
    "# import matplotlib.pyplot as plt\n",
    "# import pandas as pd\n",
    "# from scipy.integrate import odeint\n",
    "# from goehring_model import ParODE\n",
    "# from paramspace2d import ParamSpace2D\n",
    "# %matplotlib inline"
   ]
  },
  {
   "cell_type": "markdown",
   "metadata": {},
   "source": [
    "# Linear stability analysis\n",
    "\n",
    "We can use the ParamSpace2D class introduced here to perform linear stability analysis using a numerical solving method. In this notebook, we will recreate figure 1B from Trong et al., 2014."
   ]
  },
  {
   "cell_type": "markdown",
   "metadata": {},
   "source": [
    "## LSA for PAR model\n",
    "\n",
    "We must set up our objective function to perform LSA at a single point in 2D parameter space, and return an integer reflecting the stability state at that point. We can approximate bistability by performing two ODE simulations from extremely different starting conditions, as done here, scoring a model as bistable if the two resulting states are a small threshold distance apart from each other. We can judge the linear stability of these points (or point in the case of a monostable model) by calculating a numerical approximation of the jacobian, as done previously. There are six possible outcomes for any model:\n",
    "\n",
    "- 0: Monostable, linearly stable\n",
    "- 1: Monostable, linearly unstable\n",
    "- 2: Bistable, both linearly stable\n",
    "- 3: Bistable, A-dominant state linearly unstable\n",
    "- 4: Bistable, P-dominant state linearly unstable\n",
    "- 5: BIstable, bothe linearly unstable\n",
    "\n",
    "We can set up a function that performs this analysis for a given parameter combination, and use this with ParamSpace2D to create a LSA map."
   ]
  },
  {
   "cell_type": "markdown",
   "metadata": {},
   "source": [
    "#### Set up function\n",
    "\n",
    "The function below will perform analysis as described above, on a certain combination of kAP and kPA. We will use a predefined ODE implementation of the Goehring 2011 model for this."
   ]
  },
  {
   "cell_type": "code",
   "execution_count": 2,
   "metadata": {},
   "outputs": [],
   "source": [
    "def func(kAP, kPA):\n",
    "    \"\"\"\n",
    "    Solves ODEs for a given kAP, kPA, returning an integer corresponding to the stability of the final steady state(s):\n",
    "    - 0: Monostable, linearly stable\n",
    "    - 1: Monostable, linearly unstable\n",
    "    - 2: Bistable, both linearly stable\n",
    "    - 3: Bistable, A-dominant state linearly unstable\n",
    "    - 4: Bistable, P-dominant state linearly unstable\n",
    "    - 5: BIstable, bothe linearly unstable\n",
    "    \n",
    "    \"\"\"\n",
    "    \n",
    "    # Set up the model\n",
    "    m = ParODE(konA=1, koffA=0.3, konP=1, koffP=0.3, kPA=kAP, kAP=kPA,\n",
    "                 alpha=2, beta=2, psi=0.3, pA=1, pP=1)\n",
    "    \n",
    "    # Solve ODEs\n",
    "    sol1 = odeint(m.dxdt, (m.pA / m.psi, 0), t=np.linspace(0, 1000, 10000))[-1]\n",
    "    sol2 = odeint(m.dxdt, (0, m.pP / m.psi), t=np.linspace(0, 1000, 10000))[-1]\n",
    "\n",
    "    # Distance measure between solutions\n",
    "    dist = (((sol1[0] - sol2[0]) ** 2) + ((sol1[1] - sol2[1]) ** 2)) ** 0.5\n",
    "\n",
    "    # Monostable\n",
    "    if dist < 0.0001:\n",
    "        point = (sol1 + sol2) / 2\n",
    "        \n",
    "        # Test stability\n",
    "        w, v = np.linalg.eig(m.numerical_jacobian(point, step=0.0001))\n",
    "        \n",
    "        # Stable\n",
    "        if np.all(w < 0):\n",
    "            return 0\n",
    "        \n",
    "        # Unstable\n",
    "        else:\n",
    "            return 1\n",
    "\n",
    "    # Bistable\n",
    "    else:\n",
    "        \n",
    "        # Test stability of both\n",
    "        w1, v1 = np.linalg.eig(m.numerical_jacobian(sol1, step=0.0001))\n",
    "        w2, v2 = np.linalg.eig(m.numerical_jacobian(sol2, step=0.0001))\n",
    "        \n",
    "        # Both stable\n",
    "        if np.all(w1 < 0) and np.all(w2 < 0):\n",
    "            return 2\n",
    "        \n",
    "        # sol1 unstable\n",
    "        elif not np.all(w1 < 0) and np.all(w2 < 0):\n",
    "            return 3\n",
    "        \n",
    "        # sol2 unstable\n",
    "        elif np.all(w1 < 0) and not np.all(w2 < 0):\n",
    "            return 4\n",
    "        \n",
    "        # Both unstable\n",
    "        else:\n",
    "            return 5"
   ]
  },
  {
   "cell_type": "markdown",
   "metadata": {},
   "source": [
    "#### Set up class\n",
    "\n",
    "This will be considerably quicker than PDE simulations, so we can run for more iterations and get a sharp map very quickly. We will do 7 iterations here, starting from a 10x10 grid"
   ]
  },
  {
   "cell_type": "code",
   "execution_count": 6,
   "metadata": {},
   "outputs": [],
   "source": [
    "kAP_range = (0, 2.5)\n",
    "kPA_range = (0, 2.5)\n",
    "\n",
    "p = ParamSpace2D(func=func, p1_range=kAP_range, p2_range=kPA_range, resolution0=10, resolution_step=2,\n",
    "                 n_iterations=6, explore_boundaries=True, path='temp3', parallel=True)"
   ]
  },
  {
   "cell_type": "markdown",
   "metadata": {},
   "source": [
    "#### Run analysis"
   ]
  },
  {
   "cell_type": "code",
   "execution_count": 7,
   "metadata": {},
   "outputs": [
    {
     "name": "stdout",
     "output_type": "stream",
     "text": [
      "0\n",
      "1\n",
      "2\n"
     ]
    },
    {
     "name": "stderr",
     "output_type": "stream",
     "text": [
      "/Users/blandt/anaconda3/anaconda3/envs/model/lib/python3.7/site-packages/paramspace2d/paramspace.py:217: RuntimeWarning: All-NaN slice encountered\n",
      "  mx = np.nanmax(x, axis=2)\n",
      "/Users/blandt/anaconda3/anaconda3/envs/model/lib/python3.7/site-packages/paramspace2d/paramspace.py:218: RuntimeWarning: All-NaN slice encountered\n",
      "  mn = np.nanmin(x, axis=2)\n"
     ]
    },
    {
     "name": "stdout",
     "output_type": "stream",
     "text": [
      "3\n",
      "4\n",
      "5\n"
     ]
    },
    {
     "name": "stderr",
     "output_type": "stream",
     "text": [
      "/Users/blandt/anaconda3/anaconda3/envs/model/lib/python3.7/site-packages/paramspace2d/paramspace.py:433: RuntimeWarning: All-NaN axis encountered\n",
      "  val = np.nanmax(vals)\n"
     ]
    }
   ],
   "source": [
    "p.run()"
   ]
  },
  {
   "cell_type": "markdown",
   "metadata": {},
   "source": [
    "#### Plot LSA map\n",
    "\n",
    "We can see five regions of parameter space, representing the criteria described above. This matches the figure in Trong et al., 2014."
   ]
  },
  {
   "cell_type": "code",
   "execution_count": 8,
   "metadata": {},
   "outputs": [
    {
     "data": {
      "image/png": "[encoded data removed]",
      "text/plain": [
       "<Figure size 288x288 with 1 Axes>"
      ]
     },
     "metadata": {
      "needs_background": "light"
     },
     "output_type": "display_data"
    }
   ],
   "source": [
    "res = np.loadtxt('temp3/Res.txt')\n",
    "\n",
    "def paramspace_fig(res):\n",
    "    fig, ax = plt.subplots()\n",
    "    \n",
    "    ax.imshow(res.T, origin='lower', extent=(kAP_range[0], kAP_range[1], kPA_range[0], kPA_range[1]), aspect='auto')\n",
    "    ax.set_xlabel('pA')\n",
    "    ax.set_ylabel('pP')\n",
    "    ax.set_title('LSA map')\n",
    "      \n",
    "    fig.set_size_inches(4, 4)\n",
    "    fig.tight_layout()\n",
    "    \n",
    "paramspace_fig(res)"
   ]
  },
  {
   "cell_type": "markdown",
   "metadata": {},
   "source": [
    "## Summary"
   ]
  },
  {
   "cell_type": "markdown",
   "metadata": {},
   "source": [
    "This notebook demonstrates a quick way to perform linear stability analysis sweeps in 2D. As it relies purely on numerical methods, we can use this method with arbitrarily complex models, and do not need to solve any equations analytically."
   ]
  },
  {
   "cell_type": "code",
   "execution_count": null,
   "metadata": {},
   "outputs": [],
   "source": []
  }
 ],
 "metadata": {
  "kernelspec": {
   "display_name": "Python 3",
   "language": "python",
   "name": "python3"
  },
  "language_info": {
   "codemirror_mode": {
    "name": "ipython",
    "version": 3
   },
   "file_extension": ".py",
   "mimetype": "text/x-python",
   "name": "python",
   "nbconvert_exporter": "python",
   "pygments_lexer": "ipython3",
   "version": "3.7.9"
  }
 },
 "nbformat": 4,
 "nbformat_minor": 1
}
