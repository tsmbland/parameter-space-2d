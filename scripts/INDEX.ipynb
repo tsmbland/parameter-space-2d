{
 "cells": [
  {
   "cell_type": "markdown",
   "metadata": {
    "collapsed": true
   },
   "source": [
    "This series of notebooks in this folder describe a set of computational methods that can be used to perform ODE and PDE simulations, parameter-space analysis and linear stability analysis, using functions provided in this repository. This is all demonstrated using the Goehring et al., 2011 PAR model, but the methods are flexible and can be adapted to more complex models. I would recommend going through the following notebooks in order:\n",
    "\n",
    "- [Notebook 1: ODE models](./ode.ipynb)\n",
    "- [Notebook 2: PDE models](./simulate_par.ipynb)\n",
    "- [Notebook 3: 2D parameter space analysis](./param_space.ipynb)\n",
    "- [Notebook 4: Linear stability analysis](./linear_stability_analysis.ipynb)"
   ]
  },
  {
   "cell_type": "code",
   "execution_count": null,
   "metadata": {},
   "outputs": [],
   "source": []
  }
 ],
 "metadata": {
  "kernelspec": {
   "display_name": "Python 3",
   "language": "python",
   "name": "python3"
  },
  "language_info": {
   "codemirror_mode": {
    "name": "ipython",
    "version": 3
   },
   "file_extension": ".py",
   "mimetype": "text/x-python",
   "name": "python",
   "nbconvert_exporter": "python",
   "pygments_lexer": "ipython3",
   "version": "3.7.9"
  }
 },
 "nbformat": 4,
 "nbformat_minor": 1
}
